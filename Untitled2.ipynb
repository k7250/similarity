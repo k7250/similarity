{
  "nbformat": 4,
  "nbformat_minor": 0,
  "metadata": {
    "colab": {
      "provenance": [],
      "authorship_tag": "ABX9TyNzyDrQ4u7W/06O4O4D10GT",
      "include_colab_link": true
    },
    "kernelspec": {
      "name": "python3",
      "display_name": "Python 3"
    },
    "language_info": {
      "name": "python"
    }
  },
  "cells": [
    {
      "cell_type": "markdown",
      "metadata": {
        "id": "view-in-github",
        "colab_type": "text"
      },
      "source": [
        "<a href=\"https://colab.research.google.com/github/k7250/similarity/blob/main/Untitled2.ipynb\" target=\"_parent\"><img src=\"https://colab.research.google.com/assets/colab-badge.svg\" alt=\"Open In Colab\"/></a>"
      ]
    },
    {
      "cell_type": "code",
      "source": [
        "def jaccard_similarity(text1, text2):\n",
        "    # split texts into sets of words\n",
        "    set1 = set(text1.split())\n",
        "    set2 = set(text2.split())\n",
        "\n",
        "    #the jaccard_similarity function now returns both the similarity score and the set of commmon words\n",
        "\n",
        "    #the intersection variable contains the words that appear in both text1 and text2\n",
        "\n",
        "    #the common_words set is printed alongside the similarity score\n",
        "\n",
        "    # Find intersection and union\n",
        "    intersection = set1.intersection(set2)\n",
        "    union = set1.union(set2)\n",
        "\n",
        "    #calculate Jaccard similarity\n",
        "    similarity = len(intersection) / len(union)\n",
        "\n",
        "    #Return similarity and intersecting words\n",
        "    return similarity, intersection\n",
        "\n",
        "#input texts\n",
        "text1 = \"This is a sample text about is this legal sample issues.\"\n",
        "text2 = \"This text legal discusses legal and ethical This issues in legal computing.\"\n",
        "\n",
        "#calculate similarity and get common words\n",
        "similarity, common_words = jaccard_similarity(text1, text2)\n",
        "\n",
        "#print results\n",
        "print(f\"Similarity:, {similarity:.2f}\")\n",
        "print(f\"Common Words:, {common_words}\")"
      ],
      "metadata": {
        "colab": {
          "base_uri": "https://localhost:8080/"
        },
        "id": "F83PriqkE4ky",
        "outputId": "f499b984-1dba-4573-eeb1-180369ad9f56"
      },
      "execution_count": 12,
      "outputs": [
        {
          "output_type": "stream",
          "name": "stdout",
          "text": [
            "Similarity:, 0.20\n",
            "Common Words:, {'This', 'legal', 'text'}\n"
          ]
        }
      ]
    }
  ]
}